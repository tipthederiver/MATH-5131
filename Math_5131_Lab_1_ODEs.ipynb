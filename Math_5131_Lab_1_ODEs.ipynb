{
  "nbformat": 4,
  "nbformat_minor": 0,
  "metadata": {
    "colab": {
      "name": "Math 5131 Lab 1 - ODEs.ipynb",
      "version": "0.3.2",
      "provenance": [],
      "include_colab_link": true
    },
    "kernelspec": {
      "display_name": "Python 3",
      "language": "python",
      "name": "python3"
    }
  },
  "cells": [
    {
      "cell_type": "markdown",
      "metadata": {
        "id": "view-in-github",
        "colab_type": "text"
      },
      "source": [
        "[View in Colaboratory](https://colab.research.google.com/github/tipthederiver/MATH-5131/blob/master/Math_5131_Lab_1_ODEs.ipynb)"
      ]
    },
    {
      "metadata": {
        "id": "mF6cjAKR6lQb",
        "colab_type": "code",
        "colab": {}
      },
      "cell_type": "code",
      "source": [
        "%%html\n",
        "<style>\n",
        "div.TOC {    \n",
        "    background-color: #fcfcfc;\n",
        "    border-color: #dFdFdF;\n",
        "    border-left: 5px solid #dFdFdF;\n",
        "    padding: 0.5em;\n",
        "    }\n",
        "div.TOC a {\n",
        "  color: grey;\n",
        "  text-decoration: none;\n",
        "  font-weight: 500;\n",
        "}\n",
        ".ToTOC a {\n",
        "    color:#AAAAAA;\n",
        "    font-size:18px;\n",
        "    text-decoration: none;\n",
        "}\n",
        " </style>"
      ],
      "execution_count": 0,
      "outputs": []
    },
    {
      "metadata": {
        "id": "XrQGXXXK7Fen",
        "colab_type": "code",
        "colab": {}
      },
      "cell_type": "code",
      "source": [
        ""
      ],
      "execution_count": 0,
      "outputs": []
    },
    {
      "metadata": {
        "id": "3efnMLFP6lQp",
        "colab_type": "text"
      },
      "cell_type": "markdown",
      "source": [
        "# Solving ODE's numerically with scipy toolkit <a name=\"TableOfContents\"></a> \n",
        "\n",
        "### Table of contents\n",
        "<div class=\"TOC\">\n",
        "<ol>\n",
        "    <li>[An example using the exponential decay equation](#introduction)</li>\n",
        "    <ul style=\"list-style-type:none;margin-top:0\">\n",
        "        <li>[Exploring the effect of parameters](#parameters)</li>\n",
        "        <li>[Applications](#applciations1)</li>\n",
        "        <ul style=\"list-style-type:none;margin-top:0\">\n",
        "            <li>[1.1 First Order Linear ODEs](#FOLODE)</li>\n",
        "            <li>[1.2 Beyond Smooth Equations](#Nonsmooth)</li>\n",
        "            <li>[1.3 Exploring First Order Quadratic Equations](#FOQODE)</li>\n",
        "        </ul>\n",
        "    </ul>\n",
        "    <li>[Case Study: Lake Burley Griffin](#CASE1)</li>\n",
        "    <li>[Case Study: Its a dogs life - the control of stray dogs](#CASE2)</li>\n",
        "</ol>\n",
        "    Case studies were taken from *Mathematical Modelling with Case Studies - Third Edition*, B. Barnes and G. R. Fulford, CRC Press, 2015\n",
        "</div>"
      ]
    },
    {
      "metadata": {
        "id": "OGHsH6y96lQr",
        "colab_type": "text"
      },
      "cell_type": "markdown",
      "source": [
        "## 1. An example using the exponential decay equation <a name=\"introduction\"></a><span class = \"ToTOC\"><a href=\"#TableOfContents\" style=\"text-decoration:none\">&#x2BA5;</a></span>\n",
        "\n",
        "We are going to use the scipy library to solve ODE's and systems of ODE's. The scipy library uses a powerful suite of ODE solves and estimators to tackle linear, nonlinear, smooth and non-smooth ODE's weather or not a closed form solution exists. To work with ODE's in Python we need to import three libraries: \n",
        "\n",
        "* `numpy` gives us tools to deal with matrices\n",
        "* `matplotlib` give us some functions to produce mathematical plots. This libraries syntax is modeled on MATLAB's plotting syntax\n",
        "* `odeint` from the library `scipy.integrate` is our ODE solver. In general, `scipy` has a ton of great scientific computing functionality that is worth exploring on your own time.\n",
        "\n",
        "We closely follow the exposition here: https://apmonitor.com/pdc/index.php/Main/SolveDifferentialEquations"
      ]
    },
    {
      "metadata": {
        "id": "oljHwXc06lQt",
        "colab_type": "code",
        "colab": {}
      },
      "cell_type": "code",
      "source": [
        "from scipy.integrate import odeint\n",
        "import matplotlib.pyplot as plt\n",
        "import numpy as np"
      ],
      "execution_count": 0,
      "outputs": []
    },
    {
      "metadata": {
        "id": "3sU23fa-6lQz",
        "colab_type": "text"
      },
      "cell_type": "markdown",
      "source": [
        "We will start by using scipy to solve the differential equation\n",
        "\n",
        "\\begin{align}\\label{diffeq1}\n",
        "\\frac{dy}{dt} = -ky(t),\n",
        "\\end{align}\n",
        "\n",
        "for $k=0.3$ using numerical methods.\n",
        "\n",
        "To use `odeint` to solve this equation, we write right hand side as a function of $t$ and $y$ that we will call `model`:\n",
        "\n",
        "\\begin{align}\n",
        "\\frac{dy}{dt} = \\mathtt{model(y,t,k)},\n",
        "\\end{align}\n",
        "\n",
        "The first step is to define the function `model` that takes `y`, `t` and `k` as inputs and returns $\\frac{dy}{dt}$:"
      ]
    },
    {
      "metadata": {
        "id": "nbQsTChf6lQ1",
        "colab_type": "code",
        "colab": {}
      },
      "cell_type": "code",
      "source": [
        "## Defining out model\n",
        "\n",
        "def model(y,t,k):\n",
        "    dydt = -k*y\n",
        "    return dydt"
      ],
      "execution_count": 0,
      "outputs": []
    },
    {
      "metadata": {
        "id": "NDv2JXQY6lQ9",
        "colab_type": "code",
        "colab": {}
      },
      "cell_type": "code",
      "source": [
        "model(1,2,3)  # Try running this line of code for different input values of y, t and k"
      ],
      "execution_count": 0,
      "outputs": []
    },
    {
      "metadata": {
        "id": "9uT9jffW6lRA",
        "colab_type": "text"
      },
      "cell_type": "markdown",
      "source": [
        "Next, we set our constants and our initial value for $y(0) = y_0$:"
      ]
    },
    {
      "metadata": {
        "id": "umOWiE0b6lRD",
        "colab_type": "code",
        "colab": {}
      },
      "cell_type": "code",
      "source": [
        "## Setting the constants\n",
        "\n",
        "k = 0.3   # The growth/decay constant\n",
        "y0 = 5.   # The initial value of y"
      ],
      "execution_count": 0,
      "outputs": []
    },
    {
      "metadata": {
        "id": "onannKFc6lRG",
        "colab_type": "text"
      },
      "cell_type": "markdown",
      "source": [
        "Finally, we define the domain of `t` by creating an array of time values spaced evenly apart. The function `linspace(t0,t1)` returns a list of 50 numbers spaced evenly between `t0` and `t1`. The number of points returned can be optionally chosen by specifying the varabile `num` when calling the function. For example, `linspace(t0,t1,num=30)` returns an array of 30 evenly spaced points starting with `t0` and ending with `t1`.\n",
        "\n",
        "Note: If you look at the [help page](https://docs.scipy.org/doc/numpy-1.14.0/reference/generated/numpy.linspace.html) for `np.linspace`, you'll find the notation `linspace(t0,t1,num=50,...)`. In python documentation, `num=50` means that if the `num` variable is not specified the function automatically sets `num` to 50. Since `t0` and `t1` are not assigned default values they *must* be assigned by the user. "
      ]
    },
    {
      "metadata": {
        "id": "yaKnXkZd6lRK",
        "colab_type": "code",
        "colab": {}
      },
      "cell_type": "code",
      "source": [
        "## Defining the domain of t\n",
        "\n",
        "t = np.linspace(0,20)\n",
        "print(t)"
      ],
      "execution_count": 0,
      "outputs": []
    },
    {
      "metadata": {
        "id": "xPP-8z4d6lRR",
        "colab_type": "text"
      },
      "cell_type": "markdown",
      "source": [
        "We will now actually solve the differential equation. \n",
        "\n",
        "The scipy [ODE solver integrate](https://docs.scipy.org/doc/scipy-0.18.1/reference/generated/scipy.integrate.odeint.html) `odeint(func,y0,t)` takes a function, an initial value, and a vector of time points as inputs. It then outputs a numerical solution to the differential equation\n",
        "\n",
        "`dy/dt = func(y, t0, ...)`\n",
        "\n",
        "We also need to specify the other parameters in our function, in this case the constant $k$. This is done by setting `args=(k1,k2,k3,...,)` where $k_i$ are the parameters of the differential equation. The trailing `,` here specifies `(k1,k2,k3,...,)` as a *tuple*, or unchangeable, ordered list. The model function should have all of its inputs specified except `y` and `t0`. \n",
        "\n",
        "As we can see in the output, the function `odeint` returns a column vector with one $y$ value for each $t$ value in `t`. "
      ]
    },
    {
      "metadata": {
        "id": "Qiu_VpTT6lRS",
        "colab_type": "code",
        "colab": {}
      },
      "cell_type": "code",
      "source": [
        "## Solving the diffeq dy/dt = model(y,t) for initial y value y0\n",
        "\n",
        "y_sol = odeint(model,y0,t, args=(k,))\n",
        "print(y_sol)"
      ],
      "execution_count": 0,
      "outputs": []
    },
    {
      "metadata": {
        "id": "OmADDNt-6lRY",
        "colab_type": "text"
      },
      "cell_type": "markdown",
      "source": [
        "\n",
        "Note: You can find out the dimension of a vector by getting its `.shape` property. Try adding `print(sol.shape)` to the cell below.\n",
        "\n",
        "Note: You can click to the left of the output cell to minimize it. "
      ]
    },
    {
      "metadata": {
        "id": "p-BgYrbr6lRa",
        "colab_type": "text"
      },
      "cell_type": "markdown",
      "source": [
        "Lets visualize the solution to this differential equation using `matplotlib`. The command `plt.plot(t,y_sol)` will display a plot with $t$ on the horizontal axis and our predicted $y$ on the vertical axis."
      ]
    },
    {
      "metadata": {
        "id": "nM6RdqwL6lRc",
        "colab_type": "code",
        "colab": {}
      },
      "cell_type": "code",
      "source": [
        "## Plotting the resulting solution\n",
        "\n",
        "plt.plot(t,y_sol)"
      ],
      "execution_count": 0,
      "outputs": []
    },
    {
      "metadata": {
        "id": "7k-M3xbd6lRl",
        "colab_type": "text"
      },
      "cell_type": "markdown",
      "source": [
        "## Exploring the effect of parameters <a name=\"parameters\"></a><span class = \"ToTOC\"><a href=\"#TableOfContents\" style=\"text-decoration:none\">&#x2BA5;</a></span>\n",
        "\n",
        "Lets compare the solutions for $k = .3$, $k=.7$ and $k=1.1$. Numerically solving the decay equation for different $k$ values using `odeint` is as simple as rerunning the code we wrote above using different parameters but the same model."
      ]
    },
    {
      "metadata": {
        "id": "TNaHZ6jm6lRm",
        "colab_type": "code",
        "colab": {}
      },
      "cell_type": "code",
      "source": [
        "k1 = .3\n",
        "k2 = .7\n",
        "k3 = 1.1\n",
        "\n",
        "y1 = odeint(model,y0,t,args=(k1,))\n",
        "y2 = odeint(model,y0,t,args=(k2,))\n",
        "y3 = odeint(model,y0,t,args=(k3,))"
      ],
      "execution_count": 0,
      "outputs": []
    },
    {
      "metadata": {
        "id": "3y_cbLHy6lRr",
        "colab_type": "text"
      },
      "cell_type": "markdown",
      "source": [
        "To plot them all on the same axis just requires the execution of several plot commands in the same cell."
      ]
    },
    {
      "metadata": {
        "id": "KRFQ8nxZ6lRv",
        "colab_type": "code",
        "colab": {}
      },
      "cell_type": "code",
      "source": [
        "plt.plot(t,y1)\n",
        "plt.plot(t,y2)\n",
        "plt.plot(t,y3)"
      ],
      "execution_count": 0,
      "outputs": []
    },
    {
      "metadata": {
        "id": "YlDPipLr6lR0",
        "colab_type": "text"
      },
      "cell_type": "markdown",
      "source": [
        "The `plt.plot` function has a lot of options. For example, for each line we can specify the axis labels, the line width, style and color, and the inclusion of a legend. "
      ]
    },
    {
      "metadata": {
        "id": "Autk-CZq6lR3",
        "colab_type": "code",
        "colab": {}
      },
      "cell_type": "code",
      "source": [
        "plt.plot(t,y1,'r-',linewidth=2,label='k=0.1')\n",
        "plt.plot(t,y2,'b--',linewidth=4,label='k=0.2')\n",
        "plt.plot(t,y3,'g:',linewidth=1,label='k=0.5')\n",
        "\n",
        "plt.xlabel('time')\n",
        "plt.ylabel('y(t)')\n",
        "plt.legend()\n",
        "plt.show()"
      ],
      "execution_count": 0,
      "outputs": []
    },
    {
      "metadata": {
        "id": "EaLREYG-6lR-",
        "colab_type": "text"
      },
      "cell_type": "markdown",
      "source": [
        "## Applications: <a name=\"applciations1\"></a>\n",
        "\n",
        "### 1.1 First Order Linear ODEs <a name=\"FOLODE\"></a><span class = \"ToTOC\"><a href=\"#TableOfContents\" style=\"text-decoration:none\">&#x2BA5;</a></span>\n",
        "\n",
        "Use `odeint` to solve\n",
        "\n",
        "$$\n",
        "\\frac{dy}{dt} = -y(t) + k\\,,\\hspace{5em} y(0) = 0\\,,\n",
        "$$\n",
        "\n",
        "for $t\\in [0,5]$. Plot the results for $k = 1,2,3$. You will need to define a new model function `dydt = model2(y,t,k)`, and specify the domain of `t`. It is worth giving the new model function a name like `model2` to make it distinct from the exponential decay model. "
      ]
    },
    {
      "metadata": {
        "id": "OVVZ325z6lR-",
        "colab_type": "code",
        "colab": {}
      },
      "cell_type": "code",
      "source": [
        ""
      ],
      "execution_count": 0,
      "outputs": []
    },
    {
      "metadata": {
        "id": "VY6u8aiv6lSD",
        "colab_type": "code",
        "colab": {}
      },
      "cell_type": "code",
      "source": [
        ""
      ],
      "execution_count": 0,
      "outputs": []
    },
    {
      "metadata": {
        "id": "SlUs_ob36lSG",
        "colab_type": "text"
      },
      "cell_type": "markdown",
      "source": [
        "### 1.2 Beyond Smooth Equations <a name=\"Nonsmooth\"></a><span class = \"ToTOC\"><a href=\"#TableOfContents\" style=\"text-decoration:none\">&#x2BA5;</a></span>\n",
        "\n",
        "Many interesting physical systems *do not* smoothly relate their values with their derivatives. While this may be is difficult to deal with analytically, it is much easier numerically. Let $u(t)$ be the step function\n",
        "\n",
        "$$\n",
        "u(t) = \\begin{cases}\n",
        "0& \\text{for }t<10\n",
        "\\\\\n",
        "2& \\text{for }t\\geq 10\n",
        "\\end{cases}\\,.\n",
        "$$\n",
        "\n",
        "Solve the differential equation \n",
        "\n",
        "$$\n",
        "5\\frac{dy}{dt} = -y(t) + u(t)\\,,\\hspace{5em} y(0) = 1\\,,\n",
        "$$\n",
        "\n",
        "for $t\\in [0,20]$ and plot the result. What happens when you change the coefficient of $\\frac{dy}{dt}$?\n",
        "\n",
        "Hint: You will need to use an if/else statement in your definition of the function. The syntax is\n",
        "\n",
        "```\n",
        "if SOME_TEST :\n",
        "    DO_THIS\n",
        "    THEN_THIS\n",
        "    ...\n",
        "else:\n",
        "    DO_THIS_OTHER_THING\n",
        "    AND_THIS\n",
        "    ...\n",
        "```\n",
        "\n",
        "In this case, `SOME_TEST` is any logical statement that can evaluate to true or false, like `t == 4`, `y>7` or `y<t`."
      ]
    },
    {
      "metadata": {
        "id": "E381M1YC6lSG",
        "colab_type": "code",
        "colab": {}
      },
      "cell_type": "code",
      "source": [
        ""
      ],
      "execution_count": 0,
      "outputs": []
    },
    {
      "metadata": {
        "id": "CA220uZ66lSL",
        "colab_type": "code",
        "colab": {}
      },
      "cell_type": "code",
      "source": [
        ""
      ],
      "execution_count": 0,
      "outputs": []
    },
    {
      "metadata": {
        "id": "oUjZ5ZTE6lSQ",
        "colab_type": "text"
      },
      "cell_type": "markdown",
      "source": [
        "### 1.3 Exploring First Order Quadratic Equations <a name=\"FOQODE\"></a> <span class = \"ToTOC\"><a href=\"#TableOfContents\" style=\"text-decoration:none\">&#x2BA5;</a></span>\n",
        "\n",
        "Consider the family of differential equations given by \n",
        "\n",
        "$$\n",
        "\\frac{dy}{dt} = -ay^2 + byt + ct^2\\,,\n",
        "$$\n",
        "\n",
        "for positive constants $a$, $b$ and $c$. Solve this equation numerically for $y(0) = 1$ and $a = -b = c = 1$. How does the solution change as we change $a$, $b$ and $c$?"
      ]
    },
    {
      "metadata": {
        "id": "4YVXsp0F6lSS",
        "colab_type": "code",
        "colab": {}
      },
      "cell_type": "code",
      "source": [
        ""
      ],
      "execution_count": 0,
      "outputs": []
    },
    {
      "metadata": {
        "id": "3y8MSfjd6lSX",
        "colab_type": "code",
        "colab": {}
      },
      "cell_type": "code",
      "source": [
        ""
      ],
      "execution_count": 0,
      "outputs": []
    },
    {
      "metadata": {
        "id": "Ehl7KB0x6lSc",
        "colab_type": "text"
      },
      "cell_type": "markdown",
      "source": [
        "## Case Study: Lake Burley Griffin<a name=\"CASE1\"></a> <span class = \"ToTOC\"><a href=\"#TableOfContents\" style=\"text-decoration:none\">&#x2BA5;</a></span>\n",
        "\n",
        "*Lake Burley Griffin in Canberra, the capitol city of Australia, was created artificially in 1962 for both recreational and aesthetic purposes. In 1974 the public health authorities indicated that the pollution standards set down for safe use were being violated, and that this was attributed to the sewage works in Queanbeyan upstream.*\n",
        "\n",
        "*After extensive measurements of pollution levels taken in the 1970s it was established that, while sewage plants (of which there are three above the lake) certainly exacerbated the problem, there was significant contributions from rural and urban runoff as well, particularly during summer rainstorms. These contribute to dramatic increases in pollution levels and at times were totally responsible for lifting the pollution levels above the safety limits.*\n",
        "\n",
        "*In 1974 the mean concentration of the bacteria fecal coliform count was approximately $10^7 \\,\\text{bac }/m^{3}$ at the point where the river feeds the lake. The safety threshold for the fecal coliform count in the water is such that for contact recreational sports no more than 10% of the total samples over a 30 day period should exceed $4\\times 10^6 \\,\\text{bac }/m^{3}$.*\n",
        "\n",
        "The system can be modeled very simply with a few assumptions: Flow $F$ into the lake is assume to equal flow out of the lake, and the volume $V$ of the lake is considered to be constant and approximately $28\\times 10^6 \\, m^{3}$. Furthermore, the lake is assumed to be well mixed. Under these assumptions, a suitable differential equation model for the pollutant concentration is \n",
        "\n",
        "$$\n",
        "\\frac{dC}{dt} = \\frac{F}{V}c_{in} - \\frac{F}{V}C\n",
        "$$\n",
        "\n",
        "where $c_{in}$ is the concentration of the pollutant entering the lake. \n",
        "\n",
        "### Problem:\n",
        "\n",
        "If the fecal concentration entering the lake is $c_{in}=3\\times 10^6 \\, \\text{bac }/m^3$, solve the flow equation for sevral different intial considerations: A clean lake, a lake with and initial concentration of $3\\times 10^6 \\, \\text{bac }/m^3$, and a lake with $5\\times 10^6 \\,\\text{bac }/m^3$.\n",
        "\n",
        "Hint: Natively, Python doesn't have either a $\\sin()$ function or $\\pi$, but numpy does. Use `np.sin(t)` for $\\sin(t)$ and `np.pi` for $\\pi$.\n",
        "\n",
        "Hint: Python also does exponents in a nonstandard way: instead of useing `10^6`, Python uses `10**6` for exponentiation. "
      ]
    },
    {
      "metadata": {
        "id": "XLZAdtxg6lSc",
        "colab_type": "code",
        "colab": {}
      },
      "cell_type": "code",
      "source": [
        ""
      ],
      "execution_count": 0,
      "outputs": []
    },
    {
      "metadata": {
        "id": "tX7e6clT6lSk",
        "colab_type": "code",
        "colab": {}
      },
      "cell_type": "code",
      "source": [
        ""
      ],
      "execution_count": 0,
      "outputs": []
    },
    {
      "metadata": {
        "id": "ivA3X81U6lSs",
        "colab_type": "text"
      },
      "cell_type": "markdown",
      "source": [
        "### Problem:\n",
        "\n",
        "However, this model is still simplistic. Flow rates change over the year with on average seasonal patterns, while the amount of pollutant reaching the lake is also seasonal. Assuming a sinusoidal pattern over the year, a rouge estimate of the concentration from the data available in the 1970’s is taken as\n",
        "\n",
        "$$\n",
        "c_{in}(t) = 10^6(10+10\\cos(2\\pi t))\\,,\\hspace{5em} F(t) = 10^6(6+6\\sin(2\\pi t))\\,.\n",
        "$$\n",
        "\n",
        "Resolve the equations above with $F$ no longer constant. "
      ]
    },
    {
      "metadata": {
        "id": "GxGyIkVN6lSu",
        "colab_type": "code",
        "colab": {}
      },
      "cell_type": "code",
      "source": [
        ""
      ],
      "execution_count": 0,
      "outputs": []
    },
    {
      "metadata": {
        "id": "jqw0_ZGY6lSx",
        "colab_type": "code",
        "colab": {}
      },
      "cell_type": "code",
      "source": [
        ""
      ],
      "execution_count": 0,
      "outputs": []
    },
    {
      "metadata": {
        "id": "vdwjG5dF6lS5",
        "colab_type": "text"
      },
      "cell_type": "markdown",
      "source": [
        "## Case Study: Its a dogs life - the control of stray dogs<a name=\"CASE2\"></a> <span class = \"ToTOC\"><a href=\"#TableOfContents\" style=\"text-decoration:none\">&#x2BA5;</a></span>\n",
        "\n",
        "Stray dogs are abandoned dogs and their offspring living in urban environments. In [Amuaku et al (2010)](https://www.tandfonline.com/doi/abs/10.1080/08898481003689452), the authors considered how the theory of a single population could contribute to the design of practical programs for the control of stray dogs.\n",
        "\n",
        "Stray dogs can cause a number of problems and in many countries around the world have become a major public health hazard. Stray dogs typically group into packs and breed, with shelters being unable to cope with the numbers roaming the streets.\n",
        "\n",
        "Typically, euthanasia is the preferred strategy targeted at strays and although it has an impact on growth rates total eradication is unlikely due to new animals entering the population through abandonment. Here, we will attempt to make a mathematical model to study the effectiveness of euthanasia as a control mechanism.\n",
        "\n",
        "We start by making some general assumptions about a population of dogs. Let N(t) be the density of the population, that is the number of animals per $km^2$. We assume logistic growth, so \n",
        "\n",
        "$$\n",
        "\\frac{dN}{dt} = rN\\left(1-\\frac{N}{K}\\right)\n",
        "$$\n",
        "\n",
        "Where $N = N(t)$ is a function of time, $r$ is the intrinsic growth rate and $K$ is the carrying capacity.  The parameter $r$ can be expressed crudely as the difference between the birth rate $a$ and the death rate $b$, so $r = a-b$.\n",
        "\n",
        "To incorporate euthanasia, we assume that in each time step a constant proportion $\\epsilon$ of stray dogs is euthanized in each $km^2$, that is a rate of $\\epsilon N(t)$ per $km^2$. The result is a differential equation \n",
        "\n",
        "$$\n",
        "\\frac{dN}{dt} = rN\\left(1-\\frac{N}{K}\\right) - \\epsilon N\n",
        "$$\n",
        "\n",
        "### Analytic Problem: \n",
        "Rewrite the differential equation above in the standard form of the logistic equation $\\frac{dY}{dt} = rY(1-KY)$\n"
      ]
    },
    {
      "metadata": {
        "id": "PgGzYzsw6lS7",
        "colab_type": "text"
      },
      "cell_type": "markdown",
      "source": [
        "_Double click here to enter equation_"
      ]
    },
    {
      "metadata": {
        "id": "_tqWj6FK6lS7",
        "colab_type": "text"
      },
      "cell_type": "markdown",
      "source": [
        "***"
      ]
    },
    {
      "metadata": {
        "id": "MLAZ2AuU6lS8",
        "colab_type": "text"
      },
      "cell_type": "markdown",
      "source": [
        "### Problem: \n",
        "To generate results we require parameter estimates for the literature that are relevant to stray dogs. The carrying capacity was taken to as $250$, close to the average estimate taken in Baltimore in 1970-1971 (Beck, 2002). Further, according to Amaku et al appropriate birth and death rates are $a=0.34$ and $b=0.12$.\n",
        "\n",
        "Solve the logistic equation with the parameters given for several reasonable inital populations and $\\epsilon$ in three ranges: $\\epsilon > a$, $r <\\epsilon <a$ and $\\epsilon < r$. \n"
      ]
    },
    {
      "metadata": {
        "id": "RJ_ZuIe56lTC",
        "colab_type": "code",
        "colab": {}
      },
      "cell_type": "code",
      "source": [
        ""
      ],
      "execution_count": 0,
      "outputs": []
    },
    {
      "metadata": {
        "id": "ukOXoM6V6lTE",
        "colab_type": "code",
        "colab": {}
      },
      "cell_type": "code",
      "source": [
        ""
      ],
      "execution_count": 0,
      "outputs": []
    },
    {
      "metadata": {
        "id": "ZdnZ5WH66lTG",
        "colab_type": "text"
      },
      "cell_type": "markdown",
      "source": [
        "***"
      ]
    },
    {
      "metadata": {
        "id": "mWAQPnwT6lTK",
        "colab_type": "text"
      },
      "cell_type": "markdown",
      "source": [
        "### Analytic Problem: \n",
        "\n",
        "Use the ideas of stability and equilibrium to justify the results above analytically."
      ]
    },
    {
      "metadata": {
        "id": "B1lVcyUf6lTL",
        "colab_type": "text"
      },
      "cell_type": "markdown",
      "source": [
        "_Double click here to enter equation_"
      ]
    },
    {
      "metadata": {
        "id": "QPsBzMY76lTM",
        "colab_type": "text"
      },
      "cell_type": "markdown",
      "source": [
        "***"
      ]
    },
    {
      "metadata": {
        "id": "V35o9hJa6lTO",
        "colab_type": "text"
      },
      "cell_type": "markdown",
      "source": [
        "### Problem: \n",
        "\n",
        "Rehousing is not always an option, but in some cases shelters exist which can help mitigate the stray dog population. If the shelter system can rehouse $h$ dogs per year, the model becomes\n",
        "\n",
        "$$\n",
        "\\frac{dN}{dt} = rN\\left(1-\\frac{N}{K}\\right) - h\n",
        "$$\n",
        "\n",
        "For what values of $h$ does the stray population remain positive and stable? For what values could we expect the popluation to decline to zero? You may answer this question analytically, or by exploring the parameter space. "
      ]
    },
    {
      "metadata": {
        "id": "AVLpy9LW6lTO",
        "colab_type": "code",
        "colab": {}
      },
      "cell_type": "code",
      "source": [
        ""
      ],
      "execution_count": 0,
      "outputs": []
    },
    {
      "metadata": {
        "id": "Ss5keV7h6lTR",
        "colab_type": "code",
        "colab": {}
      },
      "cell_type": "code",
      "source": [
        ""
      ],
      "execution_count": 0,
      "outputs": []
    },
    {
      "metadata": {
        "id": "kRRZlht56lTU",
        "colab_type": "text"
      },
      "cell_type": "markdown",
      "source": [
        "***"
      ]
    },
    {
      "metadata": {
        "id": "77UbfSW66lTY",
        "colab_type": "text"
      },
      "cell_type": "markdown",
      "source": [
        "### Final Question:\n",
        "\n",
        "How could you modify the mathematical model above to simulate a sterilization control strategy? What about other control strategies?"
      ]
    },
    {
      "metadata": {
        "id": "cM2OMnIE6lTa",
        "colab_type": "code",
        "colab": {}
      },
      "cell_type": "code",
      "source": [
        ""
      ],
      "execution_count": 0,
      "outputs": []
    }
  ]
}