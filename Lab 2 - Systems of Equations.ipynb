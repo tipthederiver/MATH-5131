{
 "cells": [
  {
   "cell_type": "code",
   "execution_count": null,
   "metadata": {},
   "outputs": [],
   "source": [
    "%%html\n",
    "<style>\n",
    "div.TOC {    \n",
    "    background-color: #fcfcfc;\n",
    "    border-color: #dFdFdF;\n",
    "    border-left: 5px solid #dFdFdF;\n",
    "    padding: 0.5em;\n",
    "    }\n",
    "div.TOC a {\n",
    "  color: grey;\n",
    "  text-decoration: none;\n",
    "  font-weight: 500;\n",
    "}\n",
    ".ToTOC a {\n",
    "    color:#AAAAAA;\n",
    "    font-size:18px;\n",
    "    text-decoration: none;\n",
    "}\n",
    " </style>"
   ]
  },
  {
   "cell_type": "markdown",
   "metadata": {},
   "source": [
    "# Lab: Systems of equations:\n",
    "<a name=\"TableOfContents\"></a> \n",
    "\n",
    "### Table of contents \n",
    "<div class=\"TOC\">\n",
    "<ol>\n",
    "    <li>[Warmup: Autonomous Equations](#warmup)</li>\n",
    "    <ul style=\"list-style-type:none;margin-top:0\">\n",
    "        <li>[A little bit about loops](#loops)</li>\n",
    "    </ul>\n",
    "    <li>[Systems of Differential Equations](#systemsofdiffeqs)</li>\n",
    "    <ul style=\"list-style-type:none;margin-top:0\">\n",
    "        <li>[A little bit about loops](#loops)</li>\n",
    "        <li>[Applications](#apps2)</li>\n",
    "        <ul style=\"list-style-type:none;margin-top:0\">\n",
    "            <li>[2.1 Coupled Linear Systems](#CLS)</li>\n",
    "            <li>[2.2 Coupled Nonlinear Systems](#CLNS)</li>\n",
    "            <li>[2.3 Comparing To Data](#CTD)</li>\n",
    "            <li>[2.4 Coupled Non-smooth Systems](#CNSS)</li>\n",
    "        </ul>\n",
    "    </ul>\n",
    "    <li>[Case Study: Cholera Outbreak](#CASE1)</li>\n",
    "    <li>[Case Study: Michaelis–Menten kinetics](#CASE2)</li>\n",
    "</ol>\n",
    "    Case studies were taken from *Mathematical Modelling with Case Studies - Third Edition*, B. Barnes and G. R. Fulford, CRC Press, 2015\n",
    "</div>\n"
   ]
  },
  {
   "cell_type": "markdown",
   "metadata": {},
   "source": [
    "## 1. Warmup: Autonomous Equations <a name=\"warmup\"></a><span class = \"ToTOC\"><a href=\"#TableOfContents\" style=\"text-decoration:none\">&#x2BA5;</a></span>\n",
    "\n",
    "First, lets import all of our libraries: numpy for our numerical toolkit, odeint to solve ODE's and the pyplot section of matplotlib to graph our data."
   ]
  },
  {
   "cell_type": "code",
   "execution_count": null,
   "metadata": {},
   "outputs": [],
   "source": [
    "from scipy.integrate import odeint\n",
    "import matplotlib.pyplot as plt\n",
    "import numpy as np"
   ]
  },
  {
   "cell_type": "markdown",
   "metadata": {},
   "source": [
    "Lets warm up by solving numerically the differential equation from the homework:\n",
    "\n",
    "$$\n",
    "\\frac{dy}{dt} = \\sin(y)\n",
    "$$\n",
    "\n",
    "We need to define a model, using `np.sin()` from the numpy library, and solve it using `odeint(model, y0, t)`, for initial condition $y(0) = .1$. Dont forget to define your time range using `np.linspace`, your time range should be between 0 and 20 approximately. "
   ]
  },
  {
   "cell_type": "code",
   "execution_count": null,
   "metadata": {},
   "outputs": [],
   "source": [
    "def model(y,t):\n",
    "    dydt = np.sin(y)\n",
    "    return dydt\n",
    "\n",
    "t = np.linspace(0,20)\n",
    "y0 = .1\n",
    "\n",
    "y_sol = odeint(model, y0, t)\n",
    "\n",
    "\n",
    "plt.plot(t,y_sol)"
   ]
  },
  {
   "cell_type": "markdown",
   "metadata": {},
   "source": [
    "### A little bit about loops: <a name=\"loops\"></a><span class = \"ToTOC\"><a href=\"#TableOfContents\" style=\"text-decoration:none\">&#x2BA5;</a></span>\n",
    "\n",
    "Lets say we want to plot 10 different initial conditions on the same plot to get a better feel for the space. One way to explore the solutions space would be to manually code in 10 different `y0` values, manually run odeint on each, and finally plot them all together. However, computers a very good at doing thing over and over, can Python do it for us?\n",
    "\n",
    "A **loop** is a piece of code that is run over and over again, possibly with changing variables. Python has a unique way of defining loops in terms of **lists**. Let's show a quick example, take a look at the code below and then run it."
   ]
  },
  {
   "cell_type": "code",
   "execution_count": null,
   "metadata": {},
   "outputs": [],
   "source": [
    "a_list = [1,3,7,12,-4]\n",
    "\n",
    "for var in a_list:      # Note,`var' is just a name, it could be anything\n",
    "    print(var)\n",
    "    print(2*var)\n",
    "    print(var**2)\n",
    "    print()"
   ]
  },
  {
   "cell_type": "markdown",
   "metadata": {},
   "source": [
    "In the code above, we define a list called `a_list` and put some words in it. Note, that any text must be surrounded by `''` marks. The **for** loop sets a variable called `var` to each of the elements of the list and runs the code below it on `var`, first it just prints `var`, then it multiplies by 2 and prints it, then squares it and prints it. \n",
    "\n",
    "In Python, a for loop just sets a variable to each element of a list and then runs some code. Try using a for loop to solve the ODE $y' = sin(y)$ and plot the solutions for $y_0 = 1,\\,2,\\,3,\\,4,\\,5,\\,6,\\,7,\\,8,\\,9,\\,10$. "
   ]
  },
  {
   "cell_type": "code",
   "execution_count": null,
   "metadata": {},
   "outputs": [],
   "source": [
    "initial_values = [0,1,2,3,4,5,6,7,8,9,10, 2*np.pi, 2*(3.14159)]\n",
    "\n",
    "for y0 in initial_values:\n",
    "    y_sol = odeint(model, y0, t)\n",
    "    plt.plot(t,y_sol)"
   ]
  },
  {
   "cell_type": "markdown",
   "metadata": {},
   "source": [
    "Note: What happens if you start on the unstable equilibrium solution $2\\pi$? Try it using `2*np.pi` and `2*(3.14159)`. Why do you think there's a difference?"
   ]
  },
  {
   "cell_type": "code",
   "execution_count": null,
   "metadata": {},
   "outputs": [],
   "source": []
  },
  {
   "cell_type": "markdown",
   "metadata": {},
   "source": [
    "## 2. Systems of differential equations <a name=\"systemsofdiffeqs\"></a><span class = \"ToTOC\"><a href=\"#TableOfContents\" style=\"text-decoration:none\">&#x2BA5;</a></span>\n",
    "\n",
    "The `odeint` solver can also handle coupled systems of differential equations, the model function just needs to output a *vector* $\\left[\\frac{dx}{dt},\\frac{dy}{dt}\\right]$ instead of a single *value* like $\\frac{dy}{dt}$. For example, consider the coupled equations\n",
    "\n",
    "\\begin{align}\n",
    "\\frac{dx}{dt} &= y(t)\\,,\\hspace{4em} &x(0)&=0\\,,\n",
    "\\\\\n",
    "\\frac{dy}{dt} &= -x(t)\\,, &y(0)&=1\\,.\n",
    "\\end{align}\n",
    "\n",
    "We can solve this system of equations using `odeint` by promoting `y` to a vector `Y = [x,y]`, and making our function `model(Y,t)` a function of `Y` that returns a vector `dYdt = [dxdt,dydt]`."
   ]
  },
  {
   "cell_type": "code",
   "execution_count": null,
   "metadata": {},
   "outputs": [],
   "source": [
    "def model(Y,t):\n",
    "    x,y = Y\n",
    "    dYdt = [y,-x]\n",
    "    return dYdt"
   ]
  },
  {
   "cell_type": "markdown",
   "metadata": {},
   "source": [
    "Take a second and run this function on different inputs."
   ]
  },
  {
   "cell_type": "code",
   "execution_count": null,
   "metadata": {},
   "outputs": [],
   "source": [
    "print(model([1,2],0))"
   ]
  },
  {
   "cell_type": "markdown",
   "metadata": {},
   "source": [
    "Now, to fit we just set the starting values for `x` and `y` by specifying `Y0 = [0,1]` and run the estimator."
   ]
  },
  {
   "cell_type": "code",
   "execution_count": null,
   "metadata": {
    "scrolled": true
   },
   "outputs": [],
   "source": [
    "Y0 = [0,1]\n",
    "t = np.linspace(0,10,100)\n",
    "\n",
    "sol = odeint(model,Y0,t)\n",
    "\n",
    "print(sol)"
   ]
  },
  {
   "cell_type": "markdown",
   "metadata": {},
   "source": [
    "The first column of `sol` is the list of `x` values associated to each `t` value and the second column is the list of `y` values. We can plot these on the graph. \n",
    "\n",
    "How do we get a column of just the `x` values or just the `y` values? Python uses matrix like notation to access elements of a list, except that **the first column and first row is always 0 not 1**.\n",
    "\n",
    "For example, `sol[4,0]` is the 5'th row of column 0 and `sol[4,1]` is the 5'th row of column 1: "
   ]
  },
  {
   "cell_type": "code",
   "execution_count": null,
   "metadata": {},
   "outputs": [],
   "source": [
    "print(sol[4,0])\n",
    "print(sol[4,1])"
   ]
  },
  {
   "cell_type": "markdown",
   "metadata": {},
   "source": [
    "To get *all* of the rows in column 1, we use the slice delimitator `:`. The slice delimitator helps us select subsets of a list, for examples `sol[3:7,0]` returns rows 3 to (7-1) of the column 0, that is rows 3, 4, 5, 6:"
   ]
  },
  {
   "cell_type": "code",
   "execution_count": null,
   "metadata": {},
   "outputs": [],
   "source": [
    "print(sol[3:7,0])"
   ]
  },
  {
   "cell_type": "markdown",
   "metadata": {},
   "source": [
    "To get a full column, we just use the slice operator alone. For example `sol[:,0]` returns the whole of column 0, just like `sol[4,:]` returns all of row 4. "
   ]
  },
  {
   "cell_type": "code",
   "execution_count": null,
   "metadata": {},
   "outputs": [],
   "source": [
    "xsol = sol[:,0]\n",
    "ysol = sol[:,1]"
   ]
  },
  {
   "cell_type": "markdown",
   "metadata": {},
   "source": [
    "We can now plot our solutions for $x$ and $y$:"
   ]
  },
  {
   "cell_type": "code",
   "execution_count": null,
   "metadata": {},
   "outputs": [],
   "source": [
    "## \n",
    "plt.plot(t,xsol)\n",
    "plt.plot(t,ysol)"
   ]
  },
  {
   "cell_type": "markdown",
   "metadata": {},
   "source": [
    "*or* think about them as tracing out a path $(x(t), y(t)) \\in \\mathbb{R}^2$ by plotting them against each other. "
   ]
  },
  {
   "cell_type": "code",
   "execution_count": null,
   "metadata": {},
   "outputs": [],
   "source": [
    "plt.plot(xsol,ysol)"
   ]
  },
  {
   "cell_type": "markdown",
   "metadata": {},
   "source": [
    "Note, we could also just plot the columns of the array of solutions:"
   ]
  },
  {
   "cell_type": "code",
   "execution_count": null,
   "metadata": {},
   "outputs": [],
   "source": [
    "plt.plot(sol[:,0],sol[:,1])"
   ]
  },
  {
   "cell_type": "markdown",
   "metadata": {},
   "source": [
    "## Applications: <a name=\"apps2\"></a>\n",
    "\n",
    "### 2.1 Coupled Linear Systems <a name=\"CLS\"></a><span class = \"ToTOC\"><a href=\"#TableOfContents\" style=\"text-decoration:none\">&#x2BA5;</a></span>\n",
    "\n",
    "Use a model with vector input `Y` and output `[dxdt,dydt]` to solve the initial value problem \n",
    "\n",
    "\\begin{align}\n",
    "\\frac{dx}{dt} &= .7x(t) + y(t)\\,,\\hspace{4em} &x(0)&=0\\,,\n",
    "\\\\\n",
    "\\frac{dy}{dt} &= -x(t)\\,, &y(0)&=1\\,.\n",
    "\\end{align}\n",
    "\n",
    "Set up a `model` for this system and solve it for $t\\in [0,20]$ using `odeint` and plot $x$ vs $t$, $y$ vs $t$ and $x$ vs $y$.."
   ]
  },
  {
   "cell_type": "code",
   "execution_count": null,
   "metadata": {},
   "outputs": [],
   "source": []
  },
  {
   "cell_type": "code",
   "execution_count": null,
   "metadata": {},
   "outputs": [],
   "source": []
  },
  {
   "cell_type": "markdown",
   "metadata": {},
   "source": [
    "### 2.2 Coupled Nonlinear Systems <a name=\"CNLS\"></a><span class = \"ToTOC\"><a href=\"#TableOfContents\" style=\"text-decoration:none\">&#x2BA5;</a></span>\n",
    "\n",
    "Use a model with vector input `Y` and output `[dxdt,dydt]` to solve the initial value problem \n",
    "\n",
    "\\begin{align}\n",
    "\\frac{dx}{dt} &= x(1-x) - 5\\frac{xy}{1+x} \\,,\\hspace{4em} &x(0)&=1\\,,\n",
    "\\\\\n",
    "\\frac{dy}{dt} &= 5\\frac{xy}{1+x} - y \\,, &y(0)&=1\\,.\n",
    "\\end{align}\n",
    "\n",
    "Set up a `model` for this system and solve it for $t\\in [0,100]$ using `odeint` and plot $x$ vs $t$, $y$ vs $t$ and $x$ vs $y$."
   ]
  },
  {
   "cell_type": "code",
   "execution_count": null,
   "metadata": {},
   "outputs": [],
   "source": []
  },
  {
   "cell_type": "markdown",
   "metadata": {},
   "source": [
    "### 2.3 Comparing To Data: <a name=\"CTD\"></a><span class = \"ToTOC\"><a href=\"#TableOfContents\" style=\"text-decoration:none\">&#x2BA5;</a></span>\n",
    "\n",
    "In [\"Anonymous (1978). Influenza in a boarding school\"](https://www.ncbi.nlm.nih.gov/pmc/articles/PMC1603269/pdf/brmedj00115-0064.pdf) the number of cases per day of an influenza infection in a English boarding school was measured. This information is summarized in a database by the [R Epidemics Consortium (RECON)](http://www.repidemicsconsortium.org/outbreaks/index.html), the details of which can be found [here](http://www.repidemicsconsortium.org/outbreaks/reference/influenza_england_1978_school.html). Below, we put this information in an object called a **data frame**. A data frame is a table with headings, so that you can access the entries in a more human readable way.  \n",
    "\n"
   ]
  },
  {
   "cell_type": "code",
   "execution_count": null,
   "metadata": {},
   "outputs": [],
   "source": [
    "d = {'day': [1, 2, 3, 4, 5, 6, 7, 8, 9, 10, 11, 12, 13, 14],\n",
    "     'in_bed': [3, 7, 22, 78, 233, 300, 256, 233, 189, 128, 72, 33, 11, 6]}\n",
    "\n",
    "influenza = pd.DataFrame(d)"
   ]
  },
  {
   "cell_type": "markdown",
   "metadata": {},
   "source": [
    "The columns of the dataframe can be access by name by using `influenza['day']`"
   ]
  },
  {
   "cell_type": "code",
   "execution_count": null,
   "metadata": {},
   "outputs": [],
   "source": [
    "print(influenza['day'])\n",
    "print(influenza['in_bed'])"
   ]
  },
  {
   "cell_type": "markdown",
   "metadata": {},
   "source": [
    "We can plot the number of sick children from the 'influenza' dataset using the same plot function at before, only this time we may want to change from a line plot to a scatter plot. We do this by adding a flag `'o'` after the `x` and `y` data:"
   ]
  },
  {
   "cell_type": "code",
   "execution_count": null,
   "metadata": {},
   "outputs": [],
   "source": [
    "plt.plot(influenza['day'],influenza['in_bed'],'o')"
   ]
  },
  {
   "cell_type": "markdown",
   "metadata": {},
   "source": [
    "Lets return to our SIR epidemic model. Since the recovered patients don't feed back into the system we will take a moment to analyze only the susceptible and infected patients:\n",
    "\n",
    "\\begin{align}\n",
    "\\frac{dS}{dt} &= -\\beta S I\\,,\n",
    "\\\\\n",
    "\\frac{dI}{dt} &= \\beta S I- \\gamma I\\,,\n",
    "\\end{align}\n",
    "\n",
    "for $t\\in[0,20]$. Lets fix the transmission coefficiant $\\beta = 2.18\\times 10^{-3}$ and the recovery rate $\\gamma = 0.44$, $I(0) = 0$ and $S(0) = 100, 500, 800$. Setup and solve a model for this differential equation and plot the results."
   ]
  },
  {
   "cell_type": "code",
   "execution_count": null,
   "metadata": {},
   "outputs": [],
   "source": []
  },
  {
   "cell_type": "code",
   "execution_count": null,
   "metadata": {},
   "outputs": [],
   "source": []
  },
  {
   "cell_type": "code",
   "execution_count": null,
   "metadata": {},
   "outputs": [],
   "source": []
  },
  {
   "cell_type": "markdown",
   "metadata": {},
   "source": [
    "In the study above, there were suseptable 762 students in the boarding school. Plot the solved model and the actual number of infections on the same axis. "
   ]
  },
  {
   "cell_type": "code",
   "execution_count": null,
   "metadata": {
    "scrolled": true
   },
   "outputs": [],
   "source": []
  },
  {
   "cell_type": "code",
   "execution_count": null,
   "metadata": {},
   "outputs": [],
   "source": []
  },
  {
   "cell_type": "markdown",
   "metadata": {},
   "source": [
    "### 2.4 Coupled Non-smooth Systems <a name=\"CNSS\"></a><span class = \"ToTOC\"><a href=\"#TableOfContents\" style=\"text-decoration:none\">&#x2BA5;</a></span>\n",
    "\n",
    "As before, let $u(t)$ be the step function $u(t) = \\begin{cases}0& \\text{for }t<10\n",
    "\\\\\n",
    "2& \\text{for }t\\geq 10\n",
    "\\end{cases}\\,.\n",
    "$ Solve the initial value problem \n",
    "\n",
    "\\begin{align}\n",
    "\\frac{dx}{dt} &= -x(t) + u(t)\\,,\\hspace{4em} &x(0)&=1\\,,\n",
    "\\\\\n",
    "\\frac{dy}{dt} &= 6x(t)-y(t)\\,, &y(0)&=0\\,,\n",
    "\\end{align}\n",
    "\n",
    "for $t\\in[0,20]$."
   ]
  },
  {
   "cell_type": "code",
   "execution_count": null,
   "metadata": {},
   "outputs": [],
   "source": []
  },
  {
   "cell_type": "code",
   "execution_count": null,
   "metadata": {},
   "outputs": [],
   "source": []
  },
  {
   "cell_type": "markdown",
   "metadata": {},
   "source": [
    "## Case Study: Cholera Outbreak <a name=\"CASE1\"></a><span class = \"ToTOC\"><a href=\"#TableOfContents\" style=\"text-decoration:none\">&#x2BA5;</a></span>\n",
    "\n",
    "#### Background:\n",
    "\n",
    "Based on [Endemic and Epidemic Dynamics of Cholera: The Role of the Aquatic Reservoir](https://www.researchgate.net/publication/12123535_Endemic_and_Epidemic_Dynamics_of_Cholera_The_Role_of_the_Aquatic_Reservoir) and the textbook.\n",
    "\n",
    "Cholera is a water born disease that is particularly dangerous in areas where sanitation is inadequate and sewage can find its way into the drinking water supply. Modeling can provide an understanding of circumstances under which an outbreak can occur. Here we formulate a model that include interacting susceptible and infectious populations. However, what is different from the usual case is twofold: first, we include transmission from the environment and second we imagine tracking the disease over a long period of time and so we include birth and death rates. \n",
    "\n",
    "#### Governing Equations:\n",
    "The variables needed to describe the prevalence of cholera in the population are $S(t)$, susceptible, and $I(t)$, infective, where $t$ is time. Another important variable is the concentration of cholera bacteria in the water supply. We will use $B(t)$ to represent bacterial concentration. This will change in time as more bacteria enter the water supply through ongoing sewage contaminations, which then increases with an increasing number of infectives shedding cholera bacteria. \n",
    "\n",
    "\n",
    "|$S$| Number of susceptible \n",
    "|$I$| Number of infected \n",
    "|$B$| Concentration of cells in water (cells/ml)\n",
    "\n",
    "\n",
    "#### State Variables:\n",
    "\n",
    "|Parameter| Description |\n",
    "|---|---|\n",
    "|$S$| Number of susceptible |\n",
    "|$I$| Number of infected |\n",
    "|$B$| Concentration of cells in water (cells/ml)|\n",
    "\n",
    "#### Parameters:\n",
    "\n",
    "|Parameter| Description | Village 1 | Village 2 | Village 3|\n",
    "|---|---|---|---|---|\n",
    "|$H$| Total human population |10,000|10,000|10,000|\n",
    "|$n$| Background birth and death rate (days$^{-1}$) |0.0001|0.0001|0.01|\n",
    "|$a$| Rate of exposure to contaminated water (days$^{-1}$) |.5|1|1|\n",
    "|$k$| Concentration of bacteria that leads to 50% infection rate (cells/ml) |$10^6$|$10^6$|$10^6$|\n",
    "|$r$| Recovery rate (days$^{-1}$) |0.2|0.2|0.2|\n",
    "|$n_b$| Growth/death rate of cholera bacteria in water (days$^{-1}$) |-.33|-.33|-.33|\n",
    "|$e$| Rate of bacteria excretion per person $\\left(\\frac{\\text{cells}}{\\text{(ml)(days)(person)}}\\right)$|10|10|10|\n",
    "\n",
    "#### Equations:\n",
    "\n",
    "We set up the following system of differential equations:\n",
    "\n",
    "\\begin{align}\n",
    "\\frac{dS}{dt} &= n(H-S) -\\lambda(B)S\\,,\n",
    "\\\\\n",
    "\\frac{dI}{dt} &= \\lambda(B)S - rI\\,,\n",
    "\\\\\n",
    "\\frac{dB}{dt} &= Bn_b + eI\\,.\n",
    "\\end{align}\n",
    "\n",
    "Here, $\\lambda(B)$ is the **force of infection** and we assume that cholera is only contracted through contact with the environment and not through person-to-person contact. The force of infection is the probability per unit time of a susceptible being infected. While we could assume the probability is proportional to the bacterial concentration $B(t)$ times rate of exposure $a$, it is more realistic to assume it is linear for small $B(t)$ and then tends to 1 (100% of infection) as $B$ becomes large. We thus use a standard **hill function**\n",
    "\n",
    "$$\n",
    "\\lambda(B) = ap(B) = a\\frac{B}{k+B}\\,.\n",
    "$$\n",
    "\n",
    "Substituting this in for $\\lambda(B)$ we obtain the equations\n",
    "\n",
    "\\begin{align}\n",
    "\\frac{dS}{dt} &= n(H-S) -a\\frac{B}{k+B}S\n",
    "\\\\\n",
    "\\frac{dI}{dt} &= a\\frac{B}{k+B}S - rI\n",
    "\\\\\n",
    "\\frac{dB}{dt} &= Bn_b + eI\n",
    "\\end{align}"
   ]
  },
  {
   "cell_type": "markdown",
   "metadata": {},
   "source": [
    "### Question 1:\n",
    "\n",
    "In class, we derived the **critical town size** $S_C$ from the basic reproduction number and gave the formula\n",
    "\n",
    "$$\n",
    "S_C = -\\frac{rkn_b}{e}\n",
    "$$\n",
    "\n",
    "What is the critical town size for each village? What do we expect this means for the chance of an outbreak?"
   ]
  },
  {
   "cell_type": "markdown",
   "metadata": {},
   "source": [
    "* Village 1: $S_C = $\n",
    "* Village 2: $S_C = $\n",
    "* Village 3: $S_C = $"
   ]
  },
  {
   "cell_type": "markdown",
   "metadata": {},
   "source": [
    "### Question 2: Village 1\n",
    "\n",
    "Set up the model for this system of differential equations and run it for Village 1. For initial conditions, use $S(0) = H-10$, $I(0) = 10$ and $B(0) = 0$ to simulate an external infection over 300 days.\n",
    "\n",
    "Plot $S(t)$, $I(t)$ and $B(t)$ on separate axes. How do you interpret your results?"
   ]
  },
  {
   "cell_type": "code",
   "execution_count": null,
   "metadata": {},
   "outputs": [],
   "source": []
  },
  {
   "cell_type": "code",
   "execution_count": null,
   "metadata": {},
   "outputs": [],
   "source": []
  },
  {
   "cell_type": "markdown",
   "metadata": {},
   "source": [
    "### Question 3: Village 2\n",
    "\n",
    "Set up the model for this system of differential equations and run it for Village 2. For initial conditions, use $S(0) = H-10$, $I(0) = 10$ and $B(0) = 0$ to simulate an external infection over 300 days.\n",
    "\n",
    "Plot $S(t)$, $I(t)$ and $B(t)$ on **the same** axis and include the critical town size. How do you interpret your results? Add a legend to this axis to describe the different plots."
   ]
  },
  {
   "cell_type": "code",
   "execution_count": null,
   "metadata": {},
   "outputs": [],
   "source": []
  },
  {
   "cell_type": "code",
   "execution_count": null,
   "metadata": {},
   "outputs": [],
   "source": []
  },
  {
   "cell_type": "markdown",
   "metadata": {},
   "source": [
    "### Question 4: Village 3\n",
    "\n",
    "Set up the model for this system of differential equations and run it for Village 2. For initial conditions, use $S(0) = H-10$, $I(0) = 10$ and $B(0) = 0$ to simulate an external infection but this time let the **time extend to 1000 days**. \n",
    "\n",
    "Plot $S(t)$, $I(t)$ and $B(t)$ on **the same** axis and include the critical town size. How do you interpret your results? Add a legend to this axis to describe the different plots."
   ]
  },
  {
   "cell_type": "code",
   "execution_count": null,
   "metadata": {},
   "outputs": [],
   "source": []
  },
  {
   "cell_type": "code",
   "execution_count": null,
   "metadata": {},
   "outputs": [],
   "source": []
  },
  {
   "cell_type": "markdown",
   "metadata": {},
   "source": [
    "## Case Study: Michaelis–Menten kinetics <a name=\"CASE2\"></a><span class = \"ToTOC\"><a href=\"#TableOfContents\" style=\"text-decoration:none\">&#x2BA5;</a></span>\n",
    "\n",
    "#### Background:\n",
    "\n",
    "The following text is copied or paraphrased from\n",
    "\n",
    "http://elte.prompt.hu/sites/default/files/tananyagok/IntroductionToPracticalBiochemistry/ch09s02.html\n",
    "https://ocw.mit.edu/courses/physics/8-591j-systems-biology-fall-2004/readings/l2_syllabus.pdf\n",
    "\n",
    "When the topic of enzyme kinetics first emerged, almost nothing was known about the physical nature of enzymes and the possible mechanisms of rate enhancement. Let us start with a thought experiment considering the dependence of the rate of a simple chemical reaction as a function of reactant concentration $S$. In this case, the rate of the $S\\longrightarrow P$ reaction can be written as $V = dP/dt = kS$. In other words, the *rate of the reaction is linearly proportional to the concentration of the reactant $S$*. In principle, the rate could be increased to “infinity”—the only limit would be set by the solubility of $S$. \n",
    "\n",
    "Experimentally however this was not the case for two important reasons: First, the initial velocity of product formulation does not scale proportionally to the concentration of substrate. Second there is always a maximum initial velocity, that is the dependence of $dP/dt$ on $S$ is asymptotic as in the images below.\n",
    "\n",
    "<img width=500 src = \"http://elte.prompt.hu/sites/default/files/tananyagok/IntroductionToPracticalBiochemistry/images/1e780e74.jpg\">\n",
    "\n",
    "The first kinetic model that successfully explained this phenomenon was introduced by Leonor Michaelis and Maud Menten. Their presumption, which nowadays might seem trivial, was revolutionary in their time. They assumed that the enzyme $E$ directly interacts with the substrate $S$ in a stoichiometric manner, the interaction results in a well-defined intermediate complex $ES$, and the interaction leads to thermodynamic equilibrium $dES/dt = 0$. As a tribute to this first successful model, $ES$ has been named the Michaelis complex.\n",
    "\n",
    "$$\n",
    "E + S \\underset{b}{\\overset{a}\\rightleftharpoons} ES \\overset c\\rightarrow P\n",
    "$$\n",
    "\n",
    "Note that there is both a forward and a back reaction between the enzyme $E$, the reactant $S$ and $ES$ but only a forward reaction between the intermediate complex $ES$ and the product $P$. It is usually assume that binding of enzyme and substrate to the $ES$ complex is almost instantiations, and much larger than the breaking of $ES$ complex back into enzyme and substrate or production of product. Mathematically, that means that $a\\gg b\\gg c$.\n",
    "\n",
    "In the model above the reactant $S$ is turn into substrate $ES$ and then into product $P$, while the enzyme $E$ is released back into the system during $ES\\longrightarrow P$. From the reaction model above we construct a system of four differential equations\n",
    "\n",
    "\\begin{align}\n",
    "\\frac{dS}{dt} = &\\, -aE \\cdot S + b ES\n",
    "\\\\\n",
    "\\frac{dE}{dt} = &\\, -aE \\cdot S + (b+c) ES\n",
    "\\\\\n",
    "\\frac{dES}{dt} = &\\, aE \\cdot S - (b+c) ES\n",
    "\\\\\n",
    "\\frac{dP}{dt} = &\\, cES\n",
    "\\end{align}\n",
    "\n",
    "### Question 1:\n",
    "Write and solve the differential equation for Michaelis–Menten kinetics for $a = 1000$, $b = 1$, $c=.05$, $S(0) = .001$, $E(0) = .0005$ and $ES(0) = P(0) = 0$ on three different time scales, $t \\in [0,1]$, $t\\in [0,10]$ and $t\\in [0,100]$. Describe what's happens in each of these regimes. "
   ]
  },
  {
   "cell_type": "markdown",
   "metadata": {},
   "source": []
  },
  {
   "cell_type": "markdown",
   "metadata": {},
   "source": []
  },
  {
   "cell_type": "code",
   "execution_count": null,
   "metadata": {},
   "outputs": [],
   "source": []
  },
  {
   "cell_type": "code",
   "execution_count": null,
   "metadata": {},
   "outputs": [],
   "source": []
  },
  {
   "cell_type": "code",
   "execution_count": null,
   "metadata": {},
   "outputs": [],
   "source": []
  },
  {
   "cell_type": "code",
   "execution_count": null,
   "metadata": {},
   "outputs": [],
   "source": []
  },
  {
   "cell_type": "markdown",
   "metadata": {},
   "source": [
    "### Question 2.a:\n",
    "The best models are those that make predictions. Michaelis and Menten wanted to show that the behavior expected by a enzyme catalyst model behaved substantially differently than a simple product to reactant model.\n",
    "\n",
    "Increase $S(0)$ from .001 to .01 and plot the resulting model. Notice that model effectively becomes a *linear* exchange of product and reactant in the short term. "
   ]
  },
  {
   "cell_type": "code",
   "execution_count": null,
   "metadata": {},
   "outputs": [],
   "source": []
  },
  {
   "cell_type": "code",
   "execution_count": null,
   "metadata": {},
   "outputs": [],
   "source": []
  },
  {
   "cell_type": "markdown",
   "metadata": {},
   "source": [
    "### Question 2.b:\n",
    "\n",
    "Contrasting the graph above to the exponential model $\\frac{dP}{dt} = k S$ by creating a model for the system of equations governing $S\\longrightarrow P$ and solving it. In this model use $S(0)=.01$ but choose $k$ so that the models are on approximately the same time scale. How are these models different?"
   ]
  },
  {
   "cell_type": "code",
   "execution_count": null,
   "metadata": {},
   "outputs": [],
   "source": []
  },
  {
   "cell_type": "code",
   "execution_count": null,
   "metadata": {},
   "outputs": [],
   "source": []
  },
  {
   "cell_type": "markdown",
   "metadata": {},
   "source": [
    "### Question 3:\n",
    "\n",
    "The linear behavior is caused by a so called quasi-equilibrium or pseudo-steady state in the $E$ and $ES$ quantities. The idea is as follows: If there is a fixed amount of $ES$ than the production of $P$ will be linear, *regardless of the amount of reactant $S$*, ie $\\frac{dE}{dt} = \\frac{dES}{dt} = 0$. \n",
    "\n",
    "Recall that the enzyme is never used up, so the total amount of $E$ plus $ES$ is equal to $E(0) = E_0$. Using $E = E_0-ES$, we can rewrite $\\frac{dES}{dt}$ as\n",
    "\n",
    "\\begin{align}\n",
    "\\frac{dES}{dt} = &\\, -a E_0 \\cdot S + (a S + b + c) ES\n",
    "\\end{align}\n",
    "\n",
    "#### Part a:\n",
    "\n",
    "Solve $\\frac{dES}{dt} = 0$ to find the quasi-equilibrium for $ES$.\n",
    "\n",
    "\n",
    "\n"
   ]
  },
  {
   "cell_type": "markdown",
   "metadata": {},
   "source": [
    "*Click here to input answer*"
   ]
  },
  {
   "cell_type": "markdown",
   "metadata": {},
   "source": [
    "#### Part b:\n",
    "Use your solution to Part a to write an equation for $\\frac{dP}{dt}$ in terms of $S$. When $S\\gg E_0$ we see $\\frac{dP}{dt}$ becomes constant. What is the maximum rate of change of $P(t)$?"
   ]
  },
  {
   "cell_type": "markdown",
   "metadata": {},
   "source": [
    "*Click here to input answer*"
   ]
  },
  {
   "cell_type": "markdown",
   "metadata": {},
   "source": [
    "## Reflection:\n",
    "\n",
    "What did you think of this lab?\n",
    "\n",
    "Do you have any suggestions for imprvement[](<- I have left this error in for the discerning reader :D )?\n",
    "\n",
    "Are there directions or problems you'd like to explore more?"
   ]
  },
  {
   "cell_type": "code",
   "execution_count": null,
   "metadata": {},
   "outputs": [],
   "source": []
  }
 ],
 "metadata": {
  "kernelspec": {
   "display_name": "Python 3",
   "language": "python",
   "name": "python3"
  },
  "language_info": {
   "codemirror_mode": {
    "name": "ipython",
    "version": 3
   },
   "file_extension": ".py",
   "mimetype": "text/x-python",
   "name": "python",
   "nbconvert_exporter": "python",
   "pygments_lexer": "ipython3",
   "version": "3.6.5"
  }
 },
 "nbformat": 4,
 "nbformat_minor": 2
}
