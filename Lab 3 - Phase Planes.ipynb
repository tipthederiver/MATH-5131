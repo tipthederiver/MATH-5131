{
 "cells": [
  {
   "cell_type": "markdown",
   "metadata": {},
   "source": [
    "# Lab: Phase Planes\n",
    "<a name=\"TableOfContents\"></a> \n",
    "\n",
    "### Table of contents \n",
    "<div class=\"TOC\">\n",
    "<ol>\n",
    "    <li>[1. Phase Planes for First Order Systems](#intro)</li>\n",
    "    <ul style=\"list-style-type:none;margin-top:0\">\n",
    "        <li>[Vector Fields Along Paths](#pathvf)</li>\n",
    "        <li>[Discrete 2D Vector Fields](#2dDiscretVF)</li>\n",
    "        <li>[Vector Field from Differential Equations](#VFDiffeq)</li>\n",
    "        <li>[Vector Field from Differential Equations: Numerical Solutions](#VFDiffeqNS)</li>\n",
    "    </ul>\n",
    "    <li>[Application: Competing Species Model](#APP1)</li>\n",
    "    <li>[Case Study: Geese defy mathematical conventions?](#CASE1)</li>\n",
    "</ol>\n",
    "    Case studies were taken from *Mathematical Modelling with Case Studies - Third Edition*, B. Barnes and G. R. Fulford, CRC Press, 2015\n",
    "</div>"
   ]
  },
  {
   "cell_type": "markdown",
   "metadata": {},
   "source": [
    "%%html\n",
    "<style>\n",
    "div.TOC {    \n",
    "    background-color: #fcfcfc;\n",
    "    border-color: #dFdFdF;\n",
    "    border-left: 5px solid #dFdFdF;\n",
    "    padding: 0.5em;\n",
    "    }\n",
    "div.TOC a {\n",
    "  color: grey;\n",
    "  text-decoration: none;\n",
    "  font-weight: 500;\n",
    "}\n",
    ".ToTOC a {\n",
    "    color:#AAAAAA;\n",
    "    font-size:18px;\n",
    "    text-decoration: none;\n",
    "}\n",
    " </style>"
   ]
  },
  {
   "cell_type": "markdown",
   "metadata": {},
   "source": [
    "## 1. Phase Plane Vector Plot for First Order Systems<a name=\"intro\"></a><span class = \"ToTOC\"><a href=\"#TableOfContents\" style=\"text-decoration:none\">&#x2BA5;</a></span>\n",
    "\n",
    "In this lab, we will use Python to help us visualize the phase plane vector plot of a system of first order differential equations. Given a first order system, \n",
    "\\begin{align*}\n",
    "x' &=  x+y\n",
    "\\\\\n",
    "y' &= xy-1\n",
    "\\end{align*}\n",
    "we want to produce the vector field \n",
    "<img src=\"LAB3Img1.png\" width=300>\n",
    "Phase plane analysis is a great addition to our toolbox, and alothough it's implamented in many packages (Mathematica probabilty has the simplest and most robust implamentation) it is instructive to implement it from the ground up for two reason: first, if you want to make any changes to an existing implamentation you're out of luck. Second, it isn't currently implamented well in Python. \n",
    "\n",
    "\n",
    "First, lets import all of our libraries: numpy for our numerical toolkit, odeint to solve ODE's and the pyplot section of matplotlib to graph our data."
   ]
  },
  {
   "cell_type": "code",
   "execution_count": null,
   "metadata": {},
   "outputs": [],
   "source": [
    "from scipy.integrate import odeint\n",
    "import matplotlib.pyplot as plt\n",
    "import numpy as np"
   ]
  },
  {
   "cell_type": "markdown",
   "metadata": {},
   "source": [
    "We want to make some functions that will dispay the derivative vector feilds for a system of first order equations. In Python there isn't a library to do this automatically, so we'll have to implament it ourselves using the `plt.quiver` function. <a href=\"https://matplotlib.org/api/_as_gen/matplotlib.pyplot.quiver.html\">The documentation for `plt.quiver` can be found here</a>.\n",
    "\n",
    "The quiver function plot vector fields and the basic syntax is `plt.quiver(X,Y,U,V)` where\n",
    "\n",
    "* `X` is a 1D or 2D array, giving the $x$ *coordinates* of the arrow locations\n",
    "* `Y` is a 1D or 2D array, giving the $y$ *coordinates* of the arrow locations\n",
    "* `U` is a 1D or 2D array, giving the $x$ *componants* of the arrow vector\n",
    "* `V` is a 1D or 2D array, giving the $y$ *componants* of the arrow vector\n",
    "\n",
    "For example, if we want to plot two vectors $v_1 = \\langle 1,-1\\rangle$ at $(2,3)$ we would use"
   ]
  },
  {
   "cell_type": "code",
   "execution_count": null,
   "metadata": {},
   "outputs": [],
   "source": [
    "plt.quiver(2,3,1,-1,scale=1.0)"
   ]
  },
  {
   "cell_type": "markdown",
   "metadata": {},
   "source": [
    "Notice that matplotlib scales the arrow to a reasonable size, keeping only the direction. This can be changed (see the documentation above, or add `scale=1.0` after the fourth argument) but it tends to be useful to keep it on.\n",
    "\n",
    "If we want to have multiple vectors we just need to specify their locations and componants. For example, edit the following code to plot vectors $v_1 = \\langle 1,-1 \\rangle$ at $(2,3)$ and $v_2 = \\langle -1,2 \\rangle$ at $(4,1)$."
   ]
  },
  {
   "cell_type": "code",
   "execution_count": null,
   "metadata": {},
   "outputs": [],
   "source": [
    "X = [ 2, 4]  # Vector of x - cordinates\n",
    "Y = [ , ] # Vector of y - cordinates\n",
    "U = [ ]  # Vector of x - componants\n",
    "V =  # Vector of x - componants\n",
    "\n",
    "plt.quiver(X,Y,U,V)"
   ]
  },
  {
   "cell_type": "code",
   "execution_count": null,
   "metadata": {},
   "outputs": [],
   "source": []
  },
  {
   "cell_type": "markdown",
   "metadata": {},
   "source": [
    "### 1.1 Vector fields along paths <a name=\"pathvf\"></a><span class = \"ToTOC\"><a href=\"#TableOfContents\" style=\"text-decoration:none\">&#x2BA5;</a></span>\n",
    "\n",
    "Each path $\\gamma(t) = (x(t),y(t))$ in $\\mathbb{R}^2$ has a 1D vector field of vectors tangent to $\\gamma$ given by\n",
    "$$\n",
    "\\gamma'(t)  = \\langle u(t),v(t)\\rangle = \\langle x'(t),y'(t)\\rangle\\,.\n",
    "$$\n",
    "We can plot the vector feild along the curve by plotting the curve and the quiver on the same axis. Let $\\gamma(t) = (t^{-2},t^2)$, then $\\gamma'(t) = \\langle -2t^{-3},3t\\rangle$. Try to plot the curve $\\gamma(t)$ for $t = [1,4]$ using `plt.plot`. Recall that you can generate an array of $t$ values using `np.linspace`."
   ]
  },
  {
   "cell_type": "code",
   "execution_count": null,
   "metadata": {},
   "outputs": [],
   "source": [
    "t = np.linspace(1,4)\n",
    "x,y = [t**(-2),t**2]\n",
    "plt.plot(x,y)"
   ]
  },
  {
   "cell_type": "markdown",
   "metadata": {},
   "source": [
    "Now, add the quiver plot by plotting $\\gamma(t)$ and $\\gamma'(t)$, *read on once you get the vectors and curve roughly correct, you won't be able to get them exact for reasons detailed below*."
   ]
  },
  {
   "cell_type": "code",
   "execution_count": null,
   "metadata": {},
   "outputs": [],
   "source": [
    "t = \n",
    "X =\n",
    "Y = \n",
    "U = \n",
    "V = \n",
    "\n",
    "plt.plot(X,Y)\n",
    "plt.quiver(X,Y,U,V)"
   ]
  },
  {
   "cell_type": "code",
   "execution_count": null,
   "metadata": {},
   "outputs": [],
   "source": []
  },
  {
   "cell_type": "code",
   "execution_count": null,
   "metadata": {},
   "outputs": [],
   "source": []
  },
  {
   "cell_type": "markdown",
   "metadata": {},
   "source": [
    "We seem to have a problem, none of our vectors are actually tangent to the curve... On closer inspection, you may notice that the angles of the vectors are being calulated without checking the units on the plot. A look through the documentation shows that the problem is `angle` flag is set to `uv`, so the angle of the vector is being calculated without using the $x$ and $y$ scale. Adding a flag\n",
    "\n",
    "`plt.quiver(X,Y,U,V,angles='xy')`\n",
    "\n",
    "will fix the scaling issue."
   ]
  },
  {
   "cell_type": "code",
   "execution_count": null,
   "metadata": {},
   "outputs": [],
   "source": []
  },
  {
   "cell_type": "code",
   "execution_count": null,
   "metadata": {},
   "outputs": [],
   "source": []
  },
  {
   "cell_type": "markdown",
   "metadata": {},
   "source": [
    "#### Exercise:\n",
    "Plot the path $\\gamma(t) = (t^3-3t, 3t^2-9)$ and its derivative vector field for $t\\in[-2.5,2.5]$. "
   ]
  },
  {
   "cell_type": "code",
   "execution_count": null,
   "metadata": {},
   "outputs": [],
   "source": []
  },
  {
   "cell_type": "code",
   "execution_count": null,
   "metadata": {},
   "outputs": [],
   "source": []
  },
  {
   "cell_type": "markdown",
   "metadata": {},
   "source": [
    "### 1.2 Discrete 2D Vector Fields <a name=\"2dDiscretVF\"></a><span class = \"ToTOC\"><a href=\"#TableOfContents\" style=\"text-decoration:none\">&#x2BA5;</a></span>\n",
    "\n",
    "Our interest is in visualizing the vector feild generated by a system of differential equations. This looks like a 2D array of vectors, defined at a 2d array of $X$ and $Y$ values. Matplotlib allow us to pass is a grid of $X$, $Y$, $U$ and $V$ values instead of just a list. Lets say we want vectors at $x = 1,2,3$ and $y = 4,5,6$. We will need a grid of 9 points\n",
    "\n",
    "||(X,Y)||\n",
    "|--|--|--|\n",
    "|(1,6)|(2,6)|(3,6)|\n",
    "|(1,5)|(2,5)|(3,5)|\n",
    "|(1,4)|(2,4)|(3,4)|\n",
    "\n",
    "so the `X` variable will be an array \n",
    "\n",
    "||X||\n",
    "|--|--|--|\n",
    "| 1 | 2 | 3 |\n",
    "| 1 | 2 | 3 |\n",
    "| 1 | 2 | 3 |\n",
    "\n",
    "and the `Y` variable will be an array\n",
    "\n",
    "||Y||\n",
    "|--|--|--|\n",
    "| 6 | 6 | 6 |\n",
    "| 5 | 5 | 5 |\n",
    "| 4 | 4 | 4 |\n",
    "\n",
    "Python will generate these for us using the function `np.meshgrid(x,y)`. The `meshgrid` function takes a list of `x = [1,2,3]` of $x$ values and a list `y=[4,5,6]` of $y$ values and returns the grids above."
   ]
  },
  {
   "cell_type": "code",
   "execution_count": null,
   "metadata": {},
   "outputs": [],
   "source": [
    "x = [1,2,3]\n",
    "y = [6,5,4]\n",
    "\n",
    "X,Y = np.meshgrid(x,y)\n",
    "print(X)\n",
    "print(Y)"
   ]
  },
  {
   "cell_type": "markdown",
   "metadata": {},
   "source": [
    "At each point $(x,y)$ we want to place a vector $\\langle u,v\\rangle$. That means we need to generate arrays `U` and `V` containing the $x$ and $y$ componants of the vectors at each location. Lets make a feild of vectors all pointing inwards:\n",
    "\n",
    "|Vectors defined|at each point in|the grid above|\n",
    "|:--:|:--:|:--:|\n",
    "|$\\langle 1,-1 \\rangle$| $\\langle 0,-1 \\rangle$|$\\langle -1,-1 \\rangle$|\n",
    "|$\\langle 1,0 \\rangle$| $\\langle 0,0 \\rangle$|$\\langle -1,0 \\rangle$|\n",
    "|$\\langle 1,1 \\rangle$| $\\langle 0,1 \\rangle$|$\\langle -1,1 \\rangle$|"
   ]
  },
  {
   "cell_type": "code",
   "execution_count": null,
   "metadata": {},
   "outputs": [],
   "source": [
    "U = [[1,0,-1],\n",
    "     [1,0,-1],   # Notice: you can use a line break as long as you havn't closed the array!\n",
    "     [1,0,-1]]\n",
    "\n",
    "V = [[-1,-1,-1],\n",
    "     [0,0,0],\n",
    "     [1,1,1]]\n",
    "\n",
    "x = [1,2,3]\n",
    "y = [6,5,4]\n",
    "\n",
    "X,Y = np.meshgrid(x,y)\n",
    "\n",
    "plt.quiver(X,Y,U,V)"
   ]
  },
  {
   "cell_type": "code",
   "execution_count": null,
   "metadata": {},
   "outputs": [],
   "source": []
  },
  {
   "cell_type": "markdown",
   "metadata": {},
   "source": [
    "### 1.3 Vector Fields from Differential Equations <a name=\"VFDiffeq\"></a><span class = \"ToTOC\"><a href=\"#TableOfContents\" style=\"text-decoration:none\">&#x2BA5;</a></span>\n",
    "\n",
    "We would like to genreate the 2d vector field assocaited to a pair of coupled differential equations. Given a system of equations, eg\n",
    "\n",
    "\\begin{align*}\n",
    "x' &=  x+y\n",
    "\\\\\n",
    "y' &= xy-1\n",
    "\\end{align*}\n",
    "\n",
    "we can compute vector $\\langle u, v\\rangle$ at the point $(x,y)$ to be $\\langle u, v\\rangle = \\langle x+y,xy-1\\rangle$. We will define a model `model(x,y)` as before and use the model to compute the vector componants `U` and `V` for each grid entry `X` and `Y`:"
   ]
  },
  {
   "cell_type": "code",
   "execution_count": null,
   "metadata": {},
   "outputs": [],
   "source": [
    "def model(Y,t):\n",
    "    x,y = Y\n",
    "    dYdt = [x+y, x*y-1]\n",
    "    return dYdt"
   ]
  },
  {
   "cell_type": "markdown",
   "metadata": {},
   "source": [
    "We then define our grid using `np.meshgrid` and `np.linspace`. In this case, lets make a grid for $-4\\leq x\\leq 4$ and $-3\\leq y\\leq 3$ with 20 grid points in each direction. Complete the code below to produce the meshgrid "
   ]
  },
  {
   "cell_type": "code",
   "execution_count": null,
   "metadata": {},
   "outputs": [],
   "source": [
    "x = np.linspace()\n",
    "y = np.linspace()\n",
    "\n",
    "X,Y = np.meshgrid(x,y)"
   ]
  },
  {
   "cell_type": "code",
   "execution_count": null,
   "metadata": {},
   "outputs": [],
   "source": []
  },
  {
   "cell_type": "markdown",
   "metadata": {},
   "source": [
    "Finally, we use our model to compute the vectors `U` and `V`. The funcion `model` takes a vector [x,y] and returns a vector [x,y]. That means we must pass it `[X,Y]` and then load the result into `[U,V]`. The function `model` doesn't actaully use `t` but we must supply it with a value, so we choose `t=0`:"
   ]
  },
  {
   "cell_type": "code",
   "execution_count": null,
   "metadata": {},
   "outputs": [],
   "source": [
    "U, V = model([X,Y],0)\n",
    "\n",
    "plt.quiver(X,Y,U,V,angles='xy')"
   ]
  },
  {
   "cell_type": "markdown",
   "metadata": {},
   "source": [
    "#### Excerise:  \n",
    "\n",
    "Modify the code above to plot the *unit vector* in the direction of $\\langle u,v\\rangle$ but dividing `U` and `V` by $||\\langle u,v\\rangle|| = \\sqrt{u^2 + v^2}$. Remember that you can use `np.sqrt()` as a square root funtion. "
   ]
  },
  {
   "cell_type": "code",
   "execution_count": null,
   "metadata": {},
   "outputs": [],
   "source": [
    "Un = U/np.sqrt(U**2+V**2)\n",
    "Vn = V/np.sqrt(U**2+V**2)\n",
    "plt.quiver(X,Y,Un,Vn,angles='xy')"
   ]
  },
  {
   "cell_type": "markdown",
   "metadata": {},
   "source": [
    "### 1.4 Vector Fields from Differential Equations: Adding Numerical Solutions  <a name=\"VFDiffeqNS\"></a><span class = \"ToTOC\"><a href=\"#TableOfContents\" style=\"text-decoration:none\">&#x2BA5;</a></span>\n",
    "\n",
    "Finally, lets combine the phase plane vector plot with the solution plot for the differential equation above. We will define `XMIN`, `XMAX`, `YMIN` and `YMAX` as the maximum and minimum values for $x$ and $y$ respectivly. Finally, recall that for `odeint` we need to specify a starting point `XY0=[X0,Y0]` coresponding to the initial value $(x_0,y_0)$ and a time vector $t$. We will start with $t\\in [0,2]$ and initial value $(x_0,y_0) = (-1,2)$:"
   ]
  },
  {
   "cell_type": "code",
   "execution_count": null,
   "metadata": {},
   "outputs": [],
   "source": [
    "def model(XY,t):\n",
    "    x,y = XY\n",
    "    dYdt = [x+y, x*y-1]\n",
    "    return dYdt\n",
    "\n",
    "XMIN =-4\n",
    "XMAX = 4\n",
    "YMIN =-3\n",
    "YMAX = 3\n",
    "\n",
    "x = np.linspace(XMIN,XMAX,20)\n",
    "y = np.linspace(YMIN,YMAX,20)\n",
    "\n",
    "X,Y = np.meshgrid(x,y)\n",
    "U,V = model([X,Y],0)\n",
    "\n",
    "XY0 = [-1,2]\n",
    "t = np.linspace(0,2)\n",
    "\n",
    "XYSol = odeint(model, XY0, t)\n",
    "\n",
    "plt.quiver(X,Y,U,V,angles='xy')\n",
    "plt.plot(XYSol[:,0],XYSol[:,1])"
   ]
  },
  {
   "cell_type": "markdown",
   "metadata": {},
   "source": [
    "#### Exercise:\n",
    "\n",
    "Copy and paste the code above into the cell below and modify it trace out the solutions starting at (0,1), (0,0) and (1,0). Can you plot all four on the same chart? "
   ]
  },
  {
   "cell_type": "code",
   "execution_count": null,
   "metadata": {},
   "outputs": [],
   "source": []
  },
  {
   "cell_type": "code",
   "execution_count": null,
   "metadata": {},
   "outputs": [],
   "source": []
  },
  {
   "cell_type": "markdown",
   "metadata": {},
   "source": [
    "#### Exercise:\n",
    "\n",
    "Plot the solution starting at (2,1). What must you modify to get a reasonable plot? Why may this make it difficut to plot a chart of all the trajectories?"
   ]
  },
  {
   "cell_type": "code",
   "execution_count": null,
   "metadata": {},
   "outputs": [],
   "source": []
  },
  {
   "cell_type": "code",
   "execution_count": null,
   "metadata": {},
   "outputs": [],
   "source": []
  },
  {
   "cell_type": "markdown",
   "metadata": {},
   "source": [
    "### Application: Competing Species Model <a name=\"APP1\"></a><span class = \"ToTOC\"><a href=\"#TableOfContents\" style=\"text-decoration:none\">&#x2BA5;</a></span>\n",
    "\n",
    "Lets view the vectorfeild phase space for the competing species model:\n",
    "\\begin{align}\n",
    "X' &= X(b_1  -c_1Y - d_1 X)\n",
    "\\\\\n",
    "Y' &= Y(b_2 - c_2X - d_2 Y)\n",
    "\\end{align}\n",
    "for Gause's experiments with yeast. Gause supplied the following parameter values\n",
    "\n",
    "|Param.| Value|\n",
    "|--|--|\n",
    "|$b_1$|0.22|\n",
    "|$b_2$|0.061|\n",
    "|$c_1$|0.053|\n",
    "|$c_2$|0.0046|\n",
    "|$d_1$|0.017|\n",
    "|$d_2$|0.010|\n",
    "\n",
    "Plot the phase space vector field from 0 to 10 in both $x$ and $y$ and the solutions starting at (1,1), at (20,5) and at (10,20)."
   ]
  },
  {
   "cell_type": "code",
   "execution_count": null,
   "metadata": {},
   "outputs": [],
   "source": []
  },
  {
   "cell_type": "code",
   "execution_count": null,
   "metadata": {},
   "outputs": [],
   "source": []
  },
  {
   "cell_type": "markdown",
   "metadata": {},
   "source": [
    "## Case Study: Geese defy mathematical conventions?<a name=\"CASE1\"></a><span class = \"ToTOC\"><a href=\"#TableOfContents\" style=\"text-decoration:none\">&#x2BA5;</a></span>\n",
    "\n",
    "Classical exploitation theory has lead us to believe that where more grazing is available we will find more herbivores inflicting more pressure on the crops, thus keeping crop growth controlled. In <a href=” https://esajournals.onlinelibrary.wiley.com/doi/pdf/10.2307/2265498”>van de Koppel et al</a>, the authors argue that herbivores do not control the plant growth entirely. \n",
    "\n",
    "Their model, supported by empirical evidence, include the possibility of dense vegetation persisting with low herbivore grazing pressure, all in the absence of a predator. The observation of this maximal grazing pressure on large number of crops can be explain in a variety of ways. For example, in denser regions lack of light may impact stem development of plants, robbing the leaves of their protein content and making them less attractive to herbivores. Alternatively, these regions may be under watch by the few predators in the system, or herbivores may have greater difficulty penetrating them. \n",
    "\n",
    "Let $P$ and $H$ be the plant and herbivore densities respectively, with $P$ measure plant mass in $g/m^2$ and $H$ measuring  the number of herbivores per unit area in $num/m^2$ calculated from the number of droppings found. The standard form of the plant herbivore model is \n",
    "\n",
    "\\begin{align}\n",
    "P’ &= G(P) – F(P)H\n",
    "\\\\\n",
    "H’ &= N(P)H\n",
    "\\end{align}\n",
    "\n",
    "Where $G(P)$ is the growth function, $F(P)$ is the per capita consumption rate of a herbivore and $N(P)$ is the per-capita growth rate of herbivores. "
   ]
  },
  {
   "cell_type": "markdown",
   "metadata": {},
   "source": [
    "#### Case 1: Reduced Digestions Efficiency\n",
    "Consider the first case of reduced digestion efficiency due to less nutritional forage in high density crops. Here, we take the per capita growth rate to decline in regions of high plant density. Let $P^*_1$ be the crop density under which there is too little food and herbivore growth is 0. Let $P_2^*$ to be the density above which there is too much vegetation and herbivore growth is again 0.\n",
    "\n",
    "They propose the following model\n",
    "\n",
    "\\begin{align}\n",
    "P’ &= rP(1-P/K) – c_{max} \\frac{P}{a+P} H\n",
    "\\\\\n",
    "H’ &= \\left( e_{max}\\frac{P}{a+P}  e^{-bP} - d \\right)H\n",
    "\\end{align}\n",
    "\n",
    "#### Question 1:\n",
    "Give a plausible interpretation of the constants $d$, $a$, $c_{max}$. These are all term’s we have discussed before. "
   ]
  },
  {
   "cell_type": "markdown",
   "metadata": {},
   "source": [
    "*Put your answer here*"
   ]
  },
  {
   "cell_type": "markdown",
   "metadata": {},
   "source": [
    "---"
   ]
  },
  {
   "cell_type": "markdown",
   "metadata": {},
   "source": [
    "We will be working around the parameter values\n",
    "\n",
    "|$K$|$r$|$a$|$b$|$c_{max}$|$e_{max}$|$d$|\n",
    "|--|--|--|--|--|--|--|\n",
    "|18|1|10|0.065|1|0.4|0.1|\n",
    "\n",
    "#### Question 2:\n",
    "Let us take a moment to understand the functios $N(P)$ and $F(P)$. Plot $N(P)$ vs $P$ and $F(P)$ vs $P$ for $P\\in  [0,15]$.\n",
    "\n",
    "Use either the plots or the vectors to estimate the zeros of $N(P)$ up to 2 decimal places. These will be the nullclines assocaited to $H' = 0$. "
   ]
  },
  {
   "cell_type": "code",
   "execution_count": null,
   "metadata": {},
   "outputs": [],
   "source": []
  },
  {
   "cell_type": "markdown",
   "metadata": {},
   "source": [
    "Your Answer Here"
   ]
  },
  {
   "cell_type": "markdown",
   "metadata": {},
   "source": [
    "---"
   ]
  },
  {
   "cell_type": "markdown",
   "metadata": {},
   "source": [
    "#### Question 3:\n",
    "\n",
    "We are interested in discovering the long term behavior of this model: are there parameters for which the plant-herbivore system settle into coexistance, or do the herbavores always eventually die out? \n",
    "\n",
    "Plot the vector feild associted to the plant-herbivore equations at the parameter values specified above, for $P,H\\in [0,15]$. "
   ]
  },
  {
   "cell_type": "code",
   "execution_count": null,
   "metadata": {},
   "outputs": [],
   "source": []
  },
  {
   "cell_type": "code",
   "execution_count": null,
   "metadata": {},
   "outputs": [],
   "source": []
  },
  {
   "cell_type": "markdown",
   "metadata": {},
   "source": [
    "#### Question 4:\n",
    "Copy your code above but this time add the $H' = 0$ nullclines computed in **Question 3** and the $P'=0$ nullcline\n",
    "\n",
    "$$\n",
    "H = \\frac{rP(1-P/K)}{c_{max} \\frac{P}{a+P}}\\,.\n",
    "$$\n",
    "\n",
    "How many equilibrium points do we expect and are they stable or unstable?"
   ]
  },
  {
   "cell_type": "code",
   "execution_count": null,
   "metadata": {},
   "outputs": [],
   "source": []
  },
  {
   "cell_type": "code",
   "execution_count": null,
   "metadata": {},
   "outputs": [],
   "source": []
  },
  {
   "cell_type": "markdown",
   "metadata": {},
   "source": [
    "#### Question 5:\n",
    "\n",
    "Finally, compute the numerical solutions to the system of equations starting at $(P,H) = (10,13)$ and $(P,H) = (15,11)$ and plot them with the phase space vector field and the nullclines."
   ]
  },
  {
   "cell_type": "code",
   "execution_count": null,
   "metadata": {},
   "outputs": [],
   "source": []
  },
  {
   "cell_type": "code",
   "execution_count": null,
   "metadata": {},
   "outputs": [],
   "source": []
  },
  {
   "cell_type": "markdown",
   "metadata": {},
   "source": [
    "#### Question 6: Changin the Plant Carrying Capacity\n",
    "\n",
    "Consider the plant carrying capacity $K$ as a varaible parameter while holding all other parameters fixed. Copy your code from **Question 5** and plot the resulting diagram for $K = 5, 10, 20$ and 24. You may use 4 different cells or a single cell. "
   ]
  },
  {
   "cell_type": "code",
   "execution_count": null,
   "metadata": {},
   "outputs": [],
   "source": []
  },
  {
   "cell_type": "code",
   "execution_count": null,
   "metadata": {},
   "outputs": [],
   "source": []
  },
  {
   "cell_type": "code",
   "execution_count": null,
   "metadata": {},
   "outputs": [],
   "source": []
  },
  {
   "cell_type": "markdown",
   "metadata": {},
   "source": [
    "---"
   ]
  },
  {
   "cell_type": "markdown",
   "metadata": {},
   "source": [
    "Lets take a minute to discuss what we found in the problem above. For $K<5$ or $K>25$ we can see that all the herbivores will die out. For $K=10$ we see that coexistance occures for any density of herbivores. But for $K = 20$ we see something very intersting: Coexistance only occures for certain starting values of $H$ and $P$, and those starting values depend on herbivore density more than on plant density. In fact, we see that plant density strictly decreases with herbivore density staying relitivly constant until enough plants are eaten, at which point herbivores begin to die off. As more plants grow, both population may stable recover or may not. \n",
    "\n",
    "#### Question 7:\n",
    "Assume the original values for all constants, expcet assume the consumption rate is increased to 1.5. Find a starting value that will lead to \n",
    "\n",
    "* **A stable solution:**\n",
    "* **An unstable solution:**"
   ]
  },
  {
   "cell_type": "code",
   "execution_count": null,
   "metadata": {},
   "outputs": [],
   "source": []
  },
  {
   "cell_type": "code",
   "execution_count": null,
   "metadata": {},
   "outputs": [],
   "source": []
  }
 ],
 "metadata": {
  "kernelspec": {
   "display_name": "Python 3",
   "language": "python",
   "name": "python3"
  },
  "language_info": {
   "codemirror_mode": {
    "name": "ipython",
    "version": 3
   },
   "file_extension": ".py",
   "mimetype": "text/x-python",
   "name": "python",
   "nbconvert_exporter": "python",
   "pygments_lexer": "ipython3",
   "version": "3.6.5"
  }
 },
 "nbformat": 4,
 "nbformat_minor": 2
}
